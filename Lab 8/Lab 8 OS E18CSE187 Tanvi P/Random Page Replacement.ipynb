import random
def random():
    import random
    seq=[1,2,5,4,1,4,1,2,3,1,2,5,4,1,2,3,4,2,1,5,3,2,1,4,5,2,3,5,4,1]
    n=30
    f=5
    hit=0
    seq1=seq[:f]
    for i in range(f,n):
        if(seq[i] in seq1):
            hit=hit+1
        else:
            seq1[random.randint(0,f-1)]=seq[i]
    print("Random faults =",n-hit)
random()