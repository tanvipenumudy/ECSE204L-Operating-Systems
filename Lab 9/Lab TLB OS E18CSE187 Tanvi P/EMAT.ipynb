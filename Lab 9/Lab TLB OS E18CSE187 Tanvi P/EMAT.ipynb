def EMAT():	
  hit=float(input())
  ch=int(input())
  mm=int(input())
  emat=hit*(ch+mm)+(1-hit)*(ch+(2*mm))
  return emat
print("Effective Memory Access Time: EMAT",EMAT(),"ns")